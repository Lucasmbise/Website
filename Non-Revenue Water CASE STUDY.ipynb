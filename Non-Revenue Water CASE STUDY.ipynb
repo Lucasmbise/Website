{
 "cells": [
  {
   "cell_type": "markdown",
   "metadata": {},
   "source": [
    "<h1><center>Reduction of Non-Revenue Water: Case Study Rehoboth</center></h1>\n",
    "<h3><center>Lucas Mbise</center></h3>\n",
    "<center>Engineering and Operations</center>\n",
    "<center>Muafrica Technologies, P.O Box 51485, Windhoek, Namibia</center>\n",
    "<h3><center>Damas Mashauri</center></h3>\n",
    "<center>Department of Civil and Environmental Engineering</center>\n",
    "<center>University of Namibia, P.O Box 3624, Ongwediva, Namibia</center>\n",
    "<center>E-mail: dmashauri@unam.na</center>"
   ]
  },
  {
   "cell_type": "markdown",
   "metadata": {},
   "source": [
    "<h2><center>Abstract</center></h2>"
   ]
  },
  {
   "cell_type": "markdown",
   "metadata": {},
   "source": [
    "<p style=\"text-align: justify;\">Namibia is among the most arid countries in the world as two deserts flank it, the Namib and Kalahari deserts, this makes water a limited natural resource in Namibia which is essential to life and economic development. To add, Namibia Water Corporation (a bulk water supplier) often disconnects the supply of water to Rehoboth because the billing of customer water consumption is insufficient to pay the supplier. The purpose of this study was to estimate the current efficiency of the water distribution in delivering water to the end user by calculating the performance indicators and the potential savings in implementing a Flow Modulated Pressure Reducing Valve. A Raspberry Pi, Arduino Uno, pressure sensor and camera were used to log pressure and flow data. The primary data and secondary data were collected and used to create the Background Night Flow Analysis Model (SANFLOW), Pressure Management Model (PRESMAC) and a Hydraulic Model (EPANET). Non-revenue water formed 27.78% of the Total System Input and the District Metered Area had an Infrastructure Leakage Index of 2.3. The implementation of Flow Modulated Pressure Reducing Valve will reduce water losses in Rehoboth’s water distribution system. Consequently, enabling the Rehoboth Town Council to have sufficient funds to purchase water and settle their water bill arrears with the Namibia Water Corporation.</p>"
   ]
  },
  {
   "cell_type": "markdown",
   "metadata": {},
   "source": [
    "<h2>1. Introduction</h2>"
   ]
  },
  {
   "cell_type": "markdown",
   "metadata": {},
   "source": [
    "<p style=\"text-align: justify;\">One of the major issues affecting water utilities in the developing world is non-revenue water. Non-revenue water is the difference between the amount of water put into the distribution system and the amount of water billed to consumers. High levels of Non-revenue water indicate large volumes of water being lost through leaks to the ground, not being invoiced to customers, or both. Globally, the total cost for water utilities caused by non-revenue water can conservatively be estimated at US$14 billion per year, with a third of it occurring in the developing world (Kingdom, Liemberger, &amp; Marin, 2006). The high levels of non-revenue water are unsustainable considering by 2030, under an average economic growth scenario and if no efficiency gains are assumed, global water requirements would grow from 4,500 billion m^3 today to 6,900 billion m3. This is 40 percent above current accessible, reliable supply (The Barilla Group et al., 2009)). To add, one-third of the population, concentrated in developing countries, will live in basins where this deficit is larger than 50 percent (The Barilla Group et al., 2009)</p>"
   ]
  },
  {
   "cell_type": "markdown",
   "metadata": {},
   "source": [
    "<p style=\"text-align: justify;\">Kingdom et al.(2006) estimated that about 45 million cubic metres are lost daily in developing countries through water leakage in the distribution  networks, enough to serve nearly 200 million people while close to 30 million cubic metres are delivered daily to consumers, but are not invoiced because of pilferage, employees’ corruption and negligence and poor metering. According to Balkaran and Wyke (2007), non-revenue water ranges between 15% and 30% in the developed world but elsewhere it is more likely to be in the 30% - 60% range. The target for non-revenue water, as proposed by Tynan and Kingdom (2002), is less than 23% for well performing utilities in developing countries. Although it is not feasible to eliminate all non-revenue water in a water utility, reducing by half the current level of losses in developing countries appears a realistic target (Kingdom, Liemberger, &amp; Marin, 2006). This reduction could generate an estimated additional $2.9 billion in cash every year for the water sector from both increased revenues and reduced costs. To add, potentially service an additional 90 million people without any new investments in production facilities nor drawing further on scarce water resources (Kingdom, Liemberger, &amp; Marin, 2006).</p>"
   ]
  },
  {
   "cell_type": "markdown",
   "metadata": {},
   "source": [
    "<p style=\"text-align: justify;\">According to the Water Demand Management report compiled by the Ministry of Agriculture &amp; Rural Development and the City of Windhoek, a total volume of 1.9 Mm3 could be saved per annum if the non-revenue water of all local authorities in Namibia can be lowered to a maximum of 15% per annum, this amounts to approximately US$ 2 million. Khorixas and Opuwo have the highest levels of non-revenue water, with 58% and 47% respectively (Kgabi &amp; Mashauri, 2014). While, Rehoboth is estimated to have a 35+% non-revenue water (van der Merwe, 1998).</p>"
   ]
  },
  {
   "cell_type": "markdown",
   "metadata": {},
   "source": [
    "<h2>2. Literature Reveiw</h2>"
   ]
  },
  {
   "cell_type": "markdown",
   "metadata": {},
   "source": [
    "<h3>2.1. Standard Water Balance</h3>"
   ]
  },
  {
   "cell_type": "markdown",
   "metadata": {},
   "source": [
    "<p style=\"text-align: justify;\">The standard water balance is a table that reflects the true distribution of the total system input volume into components of water use efficiency, water loss and non-revenue water in a water distribution system. In 1996, the International Water Association (IWA) formed a water losses task force with the objective of developing international best practices in the field of water loss management (McKenzie &amp; Lambert, 2004). A standardised water balance, as presented in Figure 2.1, was published by Lambert and Hirner (2000) as part of the best practices developed by the water losses task force.</p>"
   ]
  },
  {
   "cell_type": "markdown",
   "metadata": {},
   "source": [
    "<p><img src=\"https://lucasmbise.com/wp-content/uploads/2019/09/SWB.png\"></p>"
   ]
  },
  {
   "cell_type": "markdown",
   "metadata": {},
   "source": [
    "<center>Figure 2.1: The standardized IWA water balance (Lambert &amp; Hirner, 2000)</center>"
   ]
  },
  {
   "cell_type": "markdown",
   "metadata": {},
   "source": [
    "<h3>2.2. Performance Indicators</h3>"
   ]
  },
  {
   "cell_type": "markdown",
   "metadata": {},
   "source": [
    "<p style=\"text-align: justify;\">Performance indicators are used to quantify water losses, particularly real losses. Performance indicators are mainly used by water utilities to measure the operational efficiency of any water distribution system and to compare them to other water distribution systems. Since many different factors potentially affect the volumes of real loss from a given water distribution system, a combination of performance indicators is generally required to properly account for the numerous contributing factors (van Wageningen, 2018).</p>"
   ]
  },
  {
   "cell_type": "markdown",
   "metadata": {},
   "source": [
    "<p style=\"text-align: justify;\">Lambert et al. (1999) presented the following basic traditional performance indicators for real losses, which are considered the most widely used for effectively comparing the annual volume of real losses between separate water distribution systems: percentage (%) of system input volume; volume lost per length of mains per unit time; volume lost per property per unit time; volume lost per service connection per unit time.</p>"
   ]
  },
  {
   "cell_type": "markdown",
   "metadata": {},
   "source": [
    "<p style=\"text-align: justify;\">Infrastructure Leakage Index (ILI) is an indicator of real losses which represents a measure of the combined performance of three infrastructure management activities for real losses namely; the speed and quality of repairs, active leakage control and asset management (Delgado, 2008).\n",
    "The ILI is defined as the ratio of the current annual real losses (CARL) to the unavoidable annual real losses (UARL). ILI is calculated using equation 2.1(Lambert et al., 1999).</p>"
   ]
  },
  {
   "cell_type": "markdown",
   "metadata": {},
   "source": [
    "<p></p><center> $ILI = \\frac{CARL}{UARL}$</center><p style=\"text-align: right;\">(2.1)</p>  "
   ]
  },
  {
   "cell_type": "markdown",
   "metadata": {},
   "source": [
    "<p style=\"text-align: justify;\">McKenzie and Seago (2005) highlighted the importance of understanding that the ILI calculation does not imply that pressure management is being optimally implemented in the system under consideration, in other words, low pressure does not mean a low ILI. As a result, it is usually possible to further reduce the volume of real losses but not the ILI through improved active pressure management (van Wageningen, 2018). To achieve a low ILI, a water distributions system’s infrastructure should be managed and maintained to reduce its ILI.</p>"
   ]
  },
  {
   "cell_type": "markdown",
   "metadata": {},
   "source": [
    "<p style=\"text-align: justify;\">However, McKenzie et al. (2012) suggested that some water loss specialists in the South African municipal sector considered that the ILI to be misleading at times. According to Seago et al. (2005), the simplicity of the ILI indicator had been criticised, the fact that it did not incorporate some of the key factors that influenced leakage in a water distribution system.</p>"
   ]
  },
  {
   "cell_type": "markdown",
   "metadata": {},
   "source": [
    "<h3>2.3. Unavoidable Annual Real Losses</h3>"
   ]
  },
  {
   "cell_type": "markdown",
   "metadata": {},
   "source": [
    "<p style=\"text-align: justify;\">The minimum level of leakage that can theoretically be achieved for any water distribution system is defined as the unavoidable annual real losses (UARL). In theory, this level of leakage can be achieved if a system is in top physical condition; all reported leaks are repaired quickly and effectively; active leakage control is practised to reduce losses from unreported bursts; the implementation of an asset management programme to replace old pipes and fittings to prevent leakage and reduce burst frequency; and there are no financial or economic constraints. UARL is calculated using equation 2.2(Lambert et al., 1999).</p>"
   ]
  },
  {
   "cell_type": "markdown",
   "metadata": {},
   "source": [
    "<p></p> <center> $$UARL = (18L_m + 0.8N_c + 25L_p) \\times P_{avg}$$ </center> <p style=\"text-align: right;\">(2.2)</p> "
   ]
  },
  {
   "cell_type": "markdown",
   "metadata": {},
   "source": [
    "<p style=\"text-align: justify;\">Where, UARL is the unavoidable annual real losses [l/day], Lm is the length of unmetered underground pipe [km], Nc is the number of service connections, Lp is the length of unmetered underground pipe from street edge to customer meters[km], Pave is the average operating pressure at average zone point [m].</p>"
   ]
  },
  {
   "cell_type": "markdown",
   "metadata": {},
   "source": [
    "<h2>3. Research Methodology</h2>"
   ]
  },
  {
   "cell_type": "markdown",
   "metadata": {},
   "source": [
    "<p style=\"text-align: justify;\">Secondary data was collected from the local authorities water department (Rehoboth Town Council) and the water utility company (Namibia Water Corporation) these included: water tariffs; system characteristics (mains length, number of connections and number of properties); cadastral and water reticulation drawings, pipe characteristics (age of pipe, pipe diameter size and pipe materials); location and details of reservoirs and water towers; consumers water billing records; and the amount of water produced and sold by the water utility to the town. In addition, a digital elevation model was generated form a geographical information system (GIS) software.</p>"
   ]
  },
  {
   "cell_type": "markdown",
   "metadata": {},
   "source": [
    "<p style=\"text-align: justify;\">Primary data from the field was collected, these include; the flow rate into the whole town (the district metered area), the minimum night flow was deduced from this data; and pressure from five randomly selected points within the districted metered area. The data was used to: (1) calibrate the hydraulic model; (2) and deduce the minimum night flow.</p>"
   ]
  },
  {
   "cell_type": "markdown",
   "metadata": {},
   "source": [
    "Primary and secondary data were used as inputs into the hydraulic model, which was based on the South African demand-driven analysis. The hydraulic model generated the average zone pressure; the average zone night pressure; and the pressure at the critical point."
   ]
  },
  {
   "cell_type": "markdown",
   "metadata": {},
   "source": [
    "<p style=\"text-align: justify;\">System characteristics, minimum night flow data and average zone pressure were used as inputs into the Background Night Flow Analysis Model to generate the standard water balance and compute the Infrastructure Leakage Index.</p>"
   ]
  },
  {
   "cell_type": "markdown",
   "metadata": {},
   "source": [
    "<p style=\"text-align: justify;\">Potential savings was calculated on the basis of the implementation of a flow modulated pressure reducing valve. System characteristics, minimum night flow data, average zone pressure, average zone night pressure and pressure at the critical point (the highest point or farthest point within the district metered area) .A summary of the research methodology is shown in Figure 3.1.</p>"
   ]
  },
  {
   "cell_type": "markdown",
   "metadata": {},
   "source": [
    "<p><img src=\"https://lucasmbise.com/wp-content/uploads/2019/09/FC.png\"></p>"
   ]
  },
  {
   "cell_type": "markdown",
   "metadata": {},
   "source": [
    "<center>Figure 3.1: Flow chart illustrating the research methodology (Mbise, 2017)</center>"
   ]
  },
  {
   "cell_type": "markdown",
   "metadata": {},
   "source": [
    "<h2>4. Results and Discussion</h2>"
   ]
  },
  {
   "cell_type": "markdown",
   "metadata": {},
   "source": [
    "<h3>4.1. Water Distribution System Characteristics</h3>"
   ]
  },
  {
   "cell_type": "markdown",
   "metadata": {},
   "source": [
    "<p style=\"text-align: justify;\">Rehoboth is a town in central Namibia just north of the Tropic of Capricorn. It is estimated to have a population of 34,589 people. It lies on a high elevation plateau with hills situated on its west side, where the reservoir is located. Consequently, this gives the terrain a high ground level variation of 67.93 m. The water distribution has a mains length of approximately 140 km and is supplied approximately 154 km3/month. The summary of the system characteristics is shown in Table 4.1.</p>"
   ]
  },
  {
   "cell_type": "markdown",
   "metadata": {},
   "source": [
    "<center><b>Table 4.1: System Characteristics</b></center>"
   ]
  },
  {
   "cell_type": "markdown",
   "metadata": {},
   "source": [
    "|Infrastructure Variables                                          |Value         |\n",
    "|------------------------------------------------------------------|--------------|\n",
    "|Length of Mains (km)\t                                           |140           |\n",
    "|Number of Connections\t                                           |8,622         |\n",
    "|Number of Properties\t                                           |8,622         |\n",
    "|Number of Non-Residential Properties                              |343           |\n",
    "|Estimated Population Served by System\t                           |34,589        |\n",
    "|System Input Volume ($m^3$/month)                                 |154,411.77    |\n",
    "|Billed Consumption ($m^3$/m)                                      |123,675.17    |\n",
    "|Minimum Night Flow ($m^3$/h)                                      |70.04         |\n",
    "|Average Zone Pressure (m)\t                                       |57            |\n",
    "|Average Zone Night Pressure (m)\t                               |63            |\n",
    "|Number of connections per kilometre\t                           |61.58         |\n",
    "|Ground-level variations (difference between maximum and minimum)  |67.93         |"
   ]
  },
  {
   "cell_type": "markdown",
   "metadata": {},
   "source": [
    "<p style=\"text-align: justify;\">Figure 4.1 shows the relationship of the flow rate, AZP and critical point pressure (CPP). The average flow through the inlet was 246.1 m3/h. The flow and pressure variations showed a similar defined pattern where minimum night flows were experienced between midnight and 04H00 in the morning. During this period, high pressures were experienced in the system. The average minimum night flow for the entire logging period was 70.04 m3/h. The average peak hour demand was 506.76 m3/h which occurred between 07H45 and 08H45 during which minimum pressures occurred in the system. AZP and CPP varied between 45.17 m to 62.95 and 20.11 to 31.45, respectively. The Background Night Flow Analysis yielded the background losses and normal night use of 56.70 m3/h and 13.84 m3/h, respectively as shown in Table 4.2.</p>"
   ]
  },
  {
   "cell_type": "code",
   "execution_count": 13,
   "metadata": {},
   "outputs": [],
   "source": [
    "%matplotlib inline\n",
    "import numpy as np\n",
    "import pandas as pd\n",
    "import seaborn as sns\n",
    "import matplotlib.pyplot as plt\n",
    "import matplotlib.dates as mdates\n",
    "import matplotlib\n",
    "from pandas.plotting import register_matplotlib_converters\n",
    "Flow = pd.read_csv('https://lucasmbise.com/wp-content/uploads/2019/09/FlowRate.csv', sep=',')\n",
    "Pressure = pd.read_csv('https://lucasmbise.com/wp-content/uploads/2019/09/Pressure.csv', sep=',')"
   ]
  },
  {
   "cell_type": "code",
   "execution_count": 14,
   "metadata": {},
   "outputs": [
    {
     "data": {
      "image/png": "[encoded data removed]",
      "text/plain": [
       "<Figure size 1152x576 with 2 Axes>"
      ]
     },
     "metadata": {
      "needs_background": "light"
     },
     "output_type": "display_data"
    }
   ],
   "source": [
    "Flow.Time = pd.to_datetime(Flow.Time)\n",
    "Pressure.Time = pd.to_datetime(Pressure.Time)\n",
    "\n",
    "fig, ax= plt.subplots(figsize=(16, 8))\n",
    "\n",
    "a = ax.plot(Flow.Time, Flow.Flow, 'b', label='Flow rate')\n",
    "ax_sec = ax.twinx()        # <--- create secondary y-axis\n",
    "\n",
    "\n",
    "b = ax_sec.plot(Pressure.Time, Pressure.CCP, 'r', label='CPP')\n",
    "c = ax_sec.plot(Pressure.Time, Pressure.AZP, 'g', label='AZP')\n",
    "\n",
    "ax.set(xlabel='Time (hours)')\n",
    "ax.set_ylabel(r\"Flow rate ($m^{3}/h$)\")\n",
    "ax_sec.set(ylabel='Head (m)')\n",
    "ax.grid()\n",
    "\n",
    "d = a+b+c\n",
    "labs = [l.get_label() for l in d]\n",
    "ax.legend(d, labs, loc='upper left')\n",
    "\n",
    "ax.xaxis.set_major_formatter(mdates.DateFormatter('%H:%M'))\n",
    "ax.xaxis.set_minor_formatter(mdates.DateFormatter('%H:%M'))\n",
    "plt.rcParams.update({'font.size': 22})"
   ]
  },
  {
   "cell_type": "markdown",
   "metadata": {},
   "source": [
    "<center><b>Table 4.2: Background Night Flow Analysis Results</b></center>"
   ]
  },
  {
   "cell_type": "markdown",
   "metadata": {},
   "source": [
    "|Infrastructure Variables                                          |Value         |\n",
    "|------------------------------------------------------------------|--------------|\n",
    "|Background Losses ($m^3$/h)                                       |56.70         |\n",
    "|Normal Night Use ($m^3$/h)                                        |13.84         |"
   ]
  },
  {
   "cell_type": "markdown",
   "metadata": {},
   "source": [
    "<p><img src=\"https://lucasmbise.com/wp-content/uploads/2019/09/NET.png\"></p>"
   ]
  },
  {
   "cell_type": "markdown",
   "metadata": {},
   "source": [
    "<center>Figure 4.2: the hydraulic model at minimum night flow (Mbise, 2017)</center>"
   ]
  },
  {
   "cell_type": "markdown",
   "metadata": {},
   "source": [
    "<h3>4.2. Water Loss and Potential Savings</h3>"
   ]
  },
  {
   "cell_type": "markdown",
   "metadata": {},
   "source": [
    "<p style=\"text-align: justify;\">The water audit’s results showed a non-revenue water of 42,900.97m3/month, which comprises 27.78% of the system volume input, as shown in Table 4.3 and Table 4.4. Non-revenue water greater than 25% is a matter of concern and reduction is needed. American Water Works Association Leak Detection and Accountability Committee (1996) recommend 10 % as a benchmark for non-revenue water. The level of apparent losses was found to be acceptable at 1.35% of system volume input, this can be attributed to minor theft and inaccurate meter readings.</p>"
   ]
  },
  {
   "cell_type": "markdown",
   "metadata": {},
   "source": [
    "<center><b>Table 4.3: Water Balance<b/></center>"
   ]
  },
  {
   "cell_type": "markdown",
   "metadata": {},
   "source": [
    "<img src=\"https://lucasmbise.com/wp-content/uploads/2019/09/WB.png\">"
   ]
  },
  {
   "cell_type": "markdown",
   "metadata": {},
   "source": [
    "<center><b>Table 4.4: Traditional Performance Indicators</b></center>"
   ]
  },
  {
   "cell_type": "markdown",
   "metadata": {},
   "source": [
    "|Infrastructure Variables                                              |Value   |\n",
    "|----------------------------------------------------------------------|--------|\n",
    "|Non-Revenue Water as a Percentage of System Volume Input (%)          |27.78   | \n",
    "|Real Losses as a Percentage of System Volume (%)                      |26.43   |\n",
    "|Real Losses per Length of Main per Unit Time ($m^3$/km/day)           |9.72    |\n",
    "|Real Losses per Property of Mains per Unit Time ($m^3$/property/day)  |0.16    |"
   ]
  },
  {
   "cell_type": "markdown",
   "metadata": {},
   "source": [
    "<p style=\"text-align: justify;\">The ILI calculations yielded a ratio of 2.3, as shown in Table 4.4, but this might be incorrect because of a conservative approach when calibrating the hydraulic model and approximating the number of properties. As a result, overstating the UARL and understating the AZP, consequently yielding a lower ILI. Furthermore, the ILI in the region of 4 to 8 would be more realistic. However, the low ILI can be an indication that burst pipes are repaired promptly.</p>"
   ]
  },
  {
   "cell_type": "markdown",
   "metadata": {},
   "source": [
    "<center><b>Table 4.5: Infrastructure Leakage Index</b></center>"
   ]
  },
  {
   "cell_type": "markdown",
   "metadata": {},
   "source": [
    "Infrastructure Variables\tValue\n",
    "Current Annual Real Losses ( m3 / year )\t14,900,760\n",
    "Unavoidable Annual Real Losses ( m3 / year )\t6,570,000\n",
    "Infrastructure leakage Index\t2.3"
   ]
  },
  {
   "cell_type": "markdown",
   "metadata": {},
   "source": [
    "<p style=\"text-align: justify;\">The Pressure Management Model showed that the best option for Active Pressure Management for the water distribution system would be the installation of a Flow Modulated Pressure Reducing Valve (PRV) instead of Fixed Outlet PRV or a Time Modulated PRV. The Flow Modulated PRV yielded a potential savings of 67,473 m3/annum, as shown in Table 4.5, this is 3.64% of the system volume input.</p>"
   ]
  },
  {
   "cell_type": "markdown",
   "metadata": {},
   "source": [
    "<center><b>Table 4.6: Flow Modulated PRV Pressure Management Model Results</B></center>"
   ]
  },
  {
   "cell_type": "markdown",
   "metadata": {},
   "source": [
    "|Infrastructure Variables                   |Value       |\n",
    "|-------------------------------------------|------------|\n",
    "|Current Annual Real Losses ($m^3$/year)    |13.6        |\n",
    "|Unavoidable Annual Real Losses($m^3$/year) |67,473      |\n",
    "|Infrastructure leakage Index               |917,628     |"
   ]
  },
  {
   "cell_type": "markdown",
   "metadata": {},
   "source": [
    "<h2>5. Conclusion</h2>"
   ]
  },
  {
   "cell_type": "markdown",
   "metadata": {},
   "source": [
    "<p style=\"text-align: justify;\">In conclusion, Rehoboth’s non-revenue water as a percentage of the system input is in the region of 30%. The ILI of 2.3 might be misleading, coupling the fact that non-revenue water is in the region of 30% and given the fact that Pressure Management Index is estimated to be 6.3 (AZP divided by 10), these outcomes are the main objects of this research.  Lastly, the implementation of a flow modulated PRV is the best option in guaranteeing a return on investment in the situation of Rehoboth’s water distribution system.</p>"
   ]
  },
  {
   "cell_type": "markdown",
   "metadata": {},
   "source": [
    "<h2>5. Acknowledgments</h2>"
   ]
  },
  {
   "cell_type": "markdown",
   "metadata": {},
   "source": [
    "<p style=\"text-align: justify;\">A sincere gratitude to Namibia Water Corporation and Rehoboth Town Council for providing the secondary data. This project was funded by the African Union New Partnership for Africa’s Development (AU-NEPAD) under the Southern African Network of Water Centres of Excellence (SANWATCE) initiative. The funding is highly appreciated.</p>"
   ]
  },
  {
   "cell_type": "markdown",
   "metadata": {},
   "source": [
    "<h2>7. References</h2>"
   ]
  },
  {
   "cell_type": "markdown",
   "metadata": {},
   "source": [
    "<p style=\"text-align: justify;\">American Water Works Association. (1996). <i>Water Audits and Leak Detection</i>. American Water Works Association.</p>\n",
    "<p style=\"text-align: justify;\">Balkaran, C., &amp; Wyke, G. (2007). <i>Managing Water Loss: Strategies for the Assessment</i>, Reduction and Control of Non-Revenue Water (NRW) in Trinidad and Tabago. NARUC.</p>\n",
    "<p style=\"text-align: justify;\">Kgabi, N., &amp; Mashauri, D. (2014). Sustainable Domestic and Industrial Water Utilisation in Namibia. <i>European Journal of Scientific Research, 46-57.</i></p>\n",
    "<p style=\"text-align: justify;\"><i>Kingdom, B., Liemberger, R., &amp; Martin, P. (2006). <i>The Challenge of Reducing Non-Revenue Water (NRW) in Developing Countries</i>. How the Private Sector Can Help: A Look at Performance-Based Service Contracting. Washington DC: The World Bank.</i></p>\n",
    "<p style=\"text-align: justify;\"><i>Lambert, A., &amp; Hirner, W. (2000). Losses from Water Supply Systems: Standard Technology and Recommended Performance Measures. 4-7.</i></p>\n",
    "<p style=\"text-align: justify;\"><i>Lambert, A., Brown, T., Takizawa, M., &amp; Weimer, D. (1999). A Review of Performance Indicators for Real Losses from Water Supply Systems. <i>Water SRT - Aqua</i>, 227-237.</i></p>\n",
    "<p style=\"text-align: justify;\"><i>Mbise, L. (2017). <i>An Assessment of Pressure and Flow in a District Metered Area in Rehoboth's Water Distribution Network</i>. Windhoek: Namibia University of Science and Technology.</i></p>\n",
    "<p style=\"text-align: justify;\"><i>McKenzie, R., &amp; Lambert, A. (2004). Best Practice Performance Indicators for Non-Revenue Water and Water Loss Components: A Practical Approach. 43-45.</i></p>\n",
    "<p style=\"text-align: justify;\"><i>McKenzie, R., &amp; Seago, C. (2005). Assessment of Real Losses in Potable Water Distribution Systems: Some Recent Developments. <i>Water Science &amp; Technology: Water Supply</i>, 33-40.</i></p>\n",
    "<p style=\"text-align: justify;\"><i>McKenzie, R., Siqalaba, Z., &amp; Wegelin, W. (2012). <i>The State of Non-Revenue Water in South Africa (2012)</i>. Pretoria: South African Water Research Commission.</i></p>\n",
    "<p style=\"text-align: justify;\"><i>Seago, C., McKenzie, R., &amp; Liemberger, R. (2005). International Benchmarking of Leakage from Water Reticulation Systems. <i>Proceedings of the IWA Specialist Conference: Leakage 2005</i>, 48-61.</i></p>\n",
    "<p style=\"text-align: justify;\"><i>The Barilla Group; The Coca-Cola Company; The International Finance Corporation; Mckinsey &amp; Company; Nestle S.A; New Holland Agriculture; SABMiler plc; Standard Chartered Bank; Syngenta AG. (2009). <i>Charting Our Water Future: Economic frameworks to inform decision-making</i>. Washington DC: 2030 Water Resource Group.</i></p>\n",
    "<p style=\"text-align: justify;\"><i>Tyanan, N., &amp; Kingdom, B. (2002). <i>A water Scorecard - Setting Performance Target for Water Utilities</i>. New York: The World Bank.</i></p>\n",
    "<p style=\"text-align: justify;\"><i>van der Merwe, B. (1998). <i>Water Demand Management Country Study Namibia</i>. Windhoek: Ministry of Agriculture, Water and Rural Development of Water Affairs Directorate of Resource Management and the City of Windhoek.</i></p>\n",
    "<p style=\"text-align: justify;\"><i>van Wageningen, G. (2018). <i>Development of a Procedure for Separately Allocating Water Leakage and Other Types of Non-Metered Water to Nodes in the Hydraulic Model</i>. Cape Town: Stellenbosch University.</i></p>"
   ]
  }
 ],
 "metadata": {
  "kernelspec": {
   "display_name": "Python 3",
   "language": "python",
   "name": "python3"
  },
  "language_info": {
   "codemirror_mode": {
    "name": "ipython",
    "version": 3
   },
   "file_extension": ".py",
   "mimetype": "text/x-python",
   "name": "python",
   "nbconvert_exporter": "python",
   "pygments_lexer": "ipython3",
   "version": "3.7.3"
  }
 },
 "nbformat": 4,
 "nbformat_minor": 2
}
